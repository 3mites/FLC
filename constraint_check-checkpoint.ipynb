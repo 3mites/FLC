{
 "cells": [
  {
   "cell_type": "code",
   "execution_count": 62,
   "id": "cc2e069f",
   "metadata": {},
   "outputs": [],
   "source": [
    "import pandas as pd\n",
    "import numpy as np"
   ]
  },
  {
   "cell_type": "code",
   "execution_count": 65,
   "id": "3db04358",
   "metadata": {},
   "outputs": [],
   "source": [
    "class response_time:\n",
    "    def __init__(self):\n",
    "        self.__component_start_time = 0\n",
    "        self.__component_end_time = 0\n",
    "        self.__success = \"Within Constraint\"\n",
    "        self.__fail = \"Out of Constraint\"\n",
    "        self.__delay_list=[]\n",
    "        \n",
    "    def set_start_time(self,component_start_time):\n",
    "        self.component_start_time = component_start_time\n",
    "        \n",
    "    def set_end_time(self, component_end_time):\n",
    "        self.component_end_time = component_end_time\n",
    "    \n",
    "    def get_start_time(self):\n",
    "        return self.component_start_time\n",
    "    \n",
    "    def get_end_time(self):\n",
    "        return self.component_end_time\n",
    "        \n",
    "    def check_delay(self):\n",
    "        #component process time - component start time = delay\n",
    "        delay = self.component_end_time - self.component_start_time\n",
    "        self.__delay_list.append(delay)\n",
    "        if delay <= 3 and delay >=0:\n",
    "            return self.__success\n",
    "        else:\n",
    "            return self.__fail\n",
    "    \n",
    "    def check_average_time(self):\n",
    "        average = np.average(self.__delay_list)\n",
    "        return average\n",
    "            \n",
    "        "
   ]
  },
  {
   "cell_type": "code",
   "execution_count": 67,
   "id": "a752d676",
   "metadata": {},
   "outputs": [
    {
     "name": "stdout",
     "output_type": "stream",
     "text": [
      "7 - 5 = Within Constraint\n",
      "4 - 3 = Within Constraint\n",
      "4 - 2 = Within Constraint\n",
      "4 - 1 = Within Constraint\n",
      "9 - 6 = Within Constraint\n",
      "9 - 7 = Within Constraint\n",
      "10 - 8 = Within Constraint\n",
      "5 - 3 = Within Constraint\n",
      "2 - 2 = Within Constraint\n",
      "Device pass response time constraint\n"
     ]
    }
   ],
   "source": [
    "csv_file = pd.read_csv('Test.csv')\n",
    "test = response_time()\n",
    "for index,row in csv_file.iterrows():\n",
    "    component_start_time = row['Start']\n",
    "    component_end_time = row['End']\n",
    "    test.set_start_time(component_start_time)\n",
    "    test.set_end_time(component_end_time)\n",
    "    start = test.get_start_time()\n",
    "    end = test.get_end_time()\n",
    "    delay = test.check_delay()\n",
    "    print(f\"{end} - {start} = {delay}\") \n",
    "\n",
    "get_average = test.check_average_time()\n",
    "if get_average <=3 and get_average >=0:\n",
    "    print(\"Device pass response time constraint\")\n",
    "else:\n",
    "    print(\"Device fails response time constraint\")\n"
   ]
  },
  {
   "cell_type": "code",
   "execution_count": null,
   "id": "81036053",
   "metadata": {},
   "outputs": [],
   "source": []
  }
 ],
 "metadata": {
  "kernelspec": {
   "display_name": "Python 3 (ipykernel)",
   "language": "python",
   "name": "python3"
  },
  "language_info": {
   "codemirror_mode": {
    "name": "ipython",
    "version": 3
   },
   "file_extension": ".py",
   "mimetype": "text/x-python",
   "name": "python",
   "nbconvert_exporter": "python",
   "pygments_lexer": "ipython3",
   "version": "3.11.5"
  }
 },
 "nbformat": 4,
 "nbformat_minor": 5
}
