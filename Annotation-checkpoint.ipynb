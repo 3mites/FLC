{
 "cells": [
  {
   "cell_type": "code",
   "execution_count": 9,
   "id": "61f688e3",
   "metadata": {},
   "outputs": [],
   "source": [
    "#renaming\n",
    "import os"
   ]
  },
  {
   "cell_type": "code",
   "execution_count": 10,
   "id": "8f8da09d",
   "metadata": {},
   "outputs": [],
   "source": [
    "directory_infected = \"Corn_Dataset/train/infected\"\n",
    "directory_healthy = \"Corn_Dataset/train/healthy\"\n",
    "file_list_infected = os.listdir(directory_infected)\n",
    "file_list_healthy = os.listdir(directory_healthy)"
   ]
  },
  {
   "cell_type": "code",
   "execution_count": 6,
   "id": "736ab841",
   "metadata": {},
   "outputs": [],
   "source": [
    "prefix = \"pestDamaged\"\n",
    "count = 1\n",
    "\n",
    "for filename in file_list:\n",
    "    if filename.endswith(\".jpg\") or filename.endswith(\".png\"):\n",
    "        new_filename = f\"{prefix}_{count:04d}.jpg\"\n",
    "        os.rename(os.path.join(directory, filename), os.path.join(directory, new_filename))\n",
    "        count += 1"
   ]
  },
  {
   "cell_type": "code",
   "execution_count": 11,
   "id": "d161f130",
   "metadata": {},
   "outputs": [],
   "source": [
    "#appending to a csv\n",
    "import pandas as pd"
   ]
  },
  {
   "cell_type": "code",
   "execution_count": 13,
   "id": "c3e64760",
   "metadata": {},
   "outputs": [
    {
     "name": "stdout",
     "output_type": "stream",
     "text": [
      "Healthy\n",
      "['Healthy_0001.jpg', 'Healthy_0002.jpg', 'Healthy_0003.jpg', 'Healthy_0004.jpg', 'Healthy_0005.jpg', 'Healthy_0006.jpg', 'Healthy_0007.jpg', 'Healthy_0008.jpg', 'Healthy_0009.jpg', 'Healthy_0010.jpg']\n",
      "[0, 0, 0, 0, 0, 0, 0, 0, 0, 0]\n",
      "\n",
      "\n",
      "Infected\n",
      "['pestDamaged_0002.jpg', 'pestDamaged_0003.jpg', 'pestDamaged_0004.jpg', 'pestDamaged_0005.jpg', 'pestDamaged_0006.jpg', 'pestDamaged_0007.jpg', 'pestDamaged_0008.jpg', 'pestDamaged_0009.jpg', 'pestDamaged_0010.jpg', 'pestDamaged_0011.jpg']\n",
      "[1, 1, 1, 1, 1, 1, 1, 1, 1, 1]\n"
     ]
    }
   ],
   "source": [
    "image_names=[]\n",
    "label=[]\n",
    "for filename in file_list_healthy:\n",
    "    image_names.append(filename)\n",
    "    label.append(0)\n",
    "for filename in file_list_infected:\n",
    "    image_names.append(filename)\n",
    "    label.append(1)\n",
    "\n",
    "print(\"Healthy\")\n",
    "print(image_names[0:10])\n",
    "print(label[0:10])\n",
    "print(\"\\n\")\n",
    "\n",
    "print(\"Infected\")\n",
    "print(image_names[201:211])\n",
    "print(label[201:211])"
   ]
  },
  {
   "cell_type": "code",
   "execution_count": 14,
   "id": "78a9866b",
   "metadata": {},
   "outputs": [
    {
     "data": {
      "text/html": [
       "<div>\n",
       "<style scoped>\n",
       "    .dataframe tbody tr th:only-of-type {\n",
       "        vertical-align: middle;\n",
       "    }\n",
       "\n",
       "    .dataframe tbody tr th {\n",
       "        vertical-align: top;\n",
       "    }\n",
       "\n",
       "    .dataframe thead th {\n",
       "        text-align: right;\n",
       "    }\n",
       "</style>\n",
       "<table border=\"1\" class=\"dataframe\">\n",
       "  <thead>\n",
       "    <tr style=\"text-align: right;\">\n",
       "      <th></th>\n",
       "      <th>Filename</th>\n",
       "      <th>Class</th>\n",
       "    </tr>\n",
       "  </thead>\n",
       "  <tbody>\n",
       "    <tr>\n",
       "      <th>0</th>\n",
       "      <td>Healthy_0001.jpg</td>\n",
       "      <td>0</td>\n",
       "    </tr>\n",
       "    <tr>\n",
       "      <th>1</th>\n",
       "      <td>Healthy_0002.jpg</td>\n",
       "      <td>0</td>\n",
       "    </tr>\n",
       "    <tr>\n",
       "      <th>2</th>\n",
       "      <td>Healthy_0003.jpg</td>\n",
       "      <td>0</td>\n",
       "    </tr>\n",
       "    <tr>\n",
       "      <th>3</th>\n",
       "      <td>Healthy_0004.jpg</td>\n",
       "      <td>0</td>\n",
       "    </tr>\n",
       "    <tr>\n",
       "      <th>4</th>\n",
       "      <td>Healthy_0005.jpg</td>\n",
       "      <td>0</td>\n",
       "    </tr>\n",
       "    <tr>\n",
       "      <th>...</th>\n",
       "      <td>...</td>\n",
       "      <td>...</td>\n",
       "    </tr>\n",
       "    <tr>\n",
       "      <th>395</th>\n",
       "      <td>pestDamaged_0196.jpg</td>\n",
       "      <td>1</td>\n",
       "    </tr>\n",
       "    <tr>\n",
       "      <th>396</th>\n",
       "      <td>pestDamaged_0197.jpg</td>\n",
       "      <td>1</td>\n",
       "    </tr>\n",
       "    <tr>\n",
       "      <th>397</th>\n",
       "      <td>pestDamaged_0198.jpg</td>\n",
       "      <td>1</td>\n",
       "    </tr>\n",
       "    <tr>\n",
       "      <th>398</th>\n",
       "      <td>pestDamaged_0199.jpg</td>\n",
       "      <td>1</td>\n",
       "    </tr>\n",
       "    <tr>\n",
       "      <th>399</th>\n",
       "      <td>pestDamaged_0200.jpg</td>\n",
       "      <td>1</td>\n",
       "    </tr>\n",
       "  </tbody>\n",
       "</table>\n",
       "<p>400 rows × 2 columns</p>\n",
       "</div>"
      ],
      "text/plain": [
       "                 Filename  Class\n",
       "0        Healthy_0001.jpg      0\n",
       "1        Healthy_0002.jpg      0\n",
       "2        Healthy_0003.jpg      0\n",
       "3        Healthy_0004.jpg      0\n",
       "4        Healthy_0005.jpg      0\n",
       "..                    ...    ...\n",
       "395  pestDamaged_0196.jpg      1\n",
       "396  pestDamaged_0197.jpg      1\n",
       "397  pestDamaged_0198.jpg      1\n",
       "398  pestDamaged_0199.jpg      1\n",
       "399  pestDamaged_0200.jpg      1\n",
       "\n",
       "[400 rows x 2 columns]"
      ]
     },
     "execution_count": 14,
     "metadata": {},
     "output_type": "execute_result"
    }
   ],
   "source": [
    "df = pd.DataFrame({\"Filename\":image_names,\n",
    "                   \"Class\": label})\n",
    "df"
   ]
  },
  {
   "cell_type": "code",
   "execution_count": 16,
   "id": "ced208ab",
   "metadata": {},
   "outputs": [],
   "source": [
    "df.to_csv(\"HealthyInfected.csv\",mode='w',index=False,header=False)"
   ]
  },
  {
   "cell_type": "code",
   "execution_count": null,
   "id": "2f5cd000",
   "metadata": {},
   "outputs": [],
   "source": []
  }
 ],
 "metadata": {
  "kernelspec": {
   "display_name": "Python 3 (ipykernel)",
   "language": "python",
   "name": "python3"
  },
  "language_info": {
   "codemirror_mode": {
    "name": "ipython",
    "version": 3
   },
   "file_extension": ".py",
   "mimetype": "text/x-python",
   "name": "python",
   "nbconvert_exporter": "python",
   "pygments_lexer": "ipython3",
   "version": "3.11.5"
  }
 },
 "nbformat": 4,
 "nbformat_minor": 5
}
